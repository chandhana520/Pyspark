{
  "nbformat": 4,
  "nbformat_minor": 0,
  "metadata": {
    "colab": {
      "name": "Hyundai_consulting_Project",
      "provenance": []
    },
    "kernelspec": {
      "name": "python3",
      "display_name": "Python 3"
    }
  },
  "cells": [
    {
      "cell_type": "code",
      "metadata": {
        "colab": {
          "base_uri": "https://localhost:8080/"
        },
        "id": "H5NaTmLrORHx",
        "outputId": "f3392d4e-7db4-4d60-8bc8-681807720e7a"
      },
      "source": [
        "pip install pyspark"
      ],
      "execution_count": null,
      "outputs": [
        {
          "output_type": "stream",
          "text": [
            "Collecting pyspark\n",
            "\u001b[?25l  Downloading https://files.pythonhosted.org/packages/f0/26/198fc8c0b98580f617cb03cb298c6056587b8f0447e20fa40c5b634ced77/pyspark-3.0.1.tar.gz (204.2MB)\n",
            "\u001b[K     |████████████████████████████████| 204.2MB 60kB/s \n",
            "\u001b[?25hCollecting py4j==0.10.9\n",
            "\u001b[?25l  Downloading https://files.pythonhosted.org/packages/9e/b6/6a4fb90cd235dc8e265a6a2067f2a2c99f0d91787f06aca4bcf7c23f3f80/py4j-0.10.9-py2.py3-none-any.whl (198kB)\n",
            "\u001b[K     |████████████████████████████████| 204kB 47.2MB/s \n",
            "\u001b[?25hBuilding wheels for collected packages: pyspark\n",
            "  Building wheel for pyspark (setup.py) ... \u001b[?25l\u001b[?25hdone\n",
            "  Created wheel for pyspark: filename=pyspark-3.0.1-py2.py3-none-any.whl size=204612242 sha256=f2c2c64e1be7872eee99c5b4738d78e4568e6318452c48e08c46c8138f18a78b\n",
            "  Stored in directory: /root/.cache/pip/wheels/5e/bd/07/031766ca628adec8435bb40f0bd83bb676ce65ff4007f8e73f\n",
            "Successfully built pyspark\n",
            "Installing collected packages: py4j, pyspark\n",
            "Successfully installed py4j-0.10.9 pyspark-3.0.1\n"
          ],
          "name": "stdout"
        }
      ]
    },
    {
      "cell_type": "code",
      "metadata": {
        "id": "xtLA4YvrOTQp"
      },
      "source": [
        "from pyspark.sql import SparkSession\r\n",
        "from pyspark.ml.regression import LinearRegression"
      ],
      "execution_count": null,
      "outputs": []
    },
    {
      "cell_type": "code",
      "metadata": {
        "id": "Zy07nk6NOrdZ"
      },
      "source": [
        "spark=SparkSession.builder.appName('hyundai').getOrCreate()"
      ],
      "execution_count": null,
      "outputs": []
    },
    {
      "cell_type": "code",
      "metadata": {
        "id": "Q9o5LB7AO1_n"
      },
      "source": [
        "data=spark.read.csv('/content/sample_data/cruise_ship_info.csv',inferSchema=True,header=True)"
      ],
      "execution_count": null,
      "outputs": []
    },
    {
      "cell_type": "code",
      "metadata": {
        "colab": {
          "base_uri": "https://localhost:8080/"
        },
        "id": "g3HpqCwmPNXo",
        "outputId": "cc6c2af6-7cd8-4b5a-c8cc-f9f8858648d7"
      },
      "source": [
        "data.head(5)"
      ],
      "execution_count": null,
      "outputs": [
        {
          "output_type": "execute_result",
          "data": {
            "text/plain": [
              "[Row(Ship_name='Journey', Cruise_line='Azamara', Age=6, Tonnage=30.276999999999997, passengers=6.94, length=5.94, cabins=3.55, passenger_density=42.64, crew=3.55),\n",
              " Row(Ship_name='Quest', Cruise_line='Azamara', Age=6, Tonnage=30.276999999999997, passengers=6.94, length=5.94, cabins=3.55, passenger_density=42.64, crew=3.55),\n",
              " Row(Ship_name='Celebration', Cruise_line='Carnival', Age=26, Tonnage=47.262, passengers=14.86, length=7.22, cabins=7.43, passenger_density=31.8, crew=6.7),\n",
              " Row(Ship_name='Conquest', Cruise_line='Carnival', Age=11, Tonnage=110.0, passengers=29.74, length=9.53, cabins=14.88, passenger_density=36.99, crew=19.1),\n",
              " Row(Ship_name='Destiny', Cruise_line='Carnival', Age=17, Tonnage=101.353, passengers=26.42, length=8.92, cabins=13.21, passenger_density=38.36, crew=10.0)]"
            ]
          },
          "metadata": {
            "tags": []
          },
          "execution_count": 80
        }
      ]
    },
    {
      "cell_type": "code",
      "metadata": {
        "colab": {
          "base_uri": "https://localhost:8080/"
        },
        "id": "YBJMEUfAPQZL",
        "outputId": "a503d20b-2627-4301-da46-80c2f32f11e7"
      },
      "source": [
        "data.printSchema()"
      ],
      "execution_count": null,
      "outputs": [
        {
          "output_type": "stream",
          "text": [
            "root\n",
            " |-- Ship_name: string (nullable = true)\n",
            " |-- Cruise_line: string (nullable = true)\n",
            " |-- Age: integer (nullable = true)\n",
            " |-- Tonnage: double (nullable = true)\n",
            " |-- passengers: double (nullable = true)\n",
            " |-- length: double (nullable = true)\n",
            " |-- cabins: double (nullable = true)\n",
            " |-- passenger_density: double (nullable = true)\n",
            " |-- crew: double (nullable = true)\n",
            "\n"
          ],
          "name": "stdout"
        }
      ]
    },
    {
      "cell_type": "code",
      "metadata": {
        "id": "cf__0f8xPy1o"
      },
      "source": [
        "import numpy as np"
      ],
      "execution_count": null,
      "outputs": []
    },
    {
      "cell_type": "code",
      "metadata": {
        "colab": {
          "base_uri": "https://localhost:8080/"
        },
        "id": "VognTUqDPUiL",
        "outputId": "83433056-2cc7-4b3d-cb1e-2a7072a947c3"
      },
      "source": [
        "data.columns"
      ],
      "execution_count": null,
      "outputs": [
        {
          "output_type": "execute_result",
          "data": {
            "text/plain": [
              "['Ship_name',\n",
              " 'Cruise_line',\n",
              " 'Age',\n",
              " 'Tonnage',\n",
              " 'passengers',\n",
              " 'length',\n",
              " 'cabins',\n",
              " 'passenger_density',\n",
              " 'crew']"
            ]
          },
          "metadata": {
            "tags": []
          },
          "execution_count": 83
        }
      ]
    },
    {
      "cell_type": "code",
      "metadata": {
        "id": "U5I6DkW5Pl8v"
      },
      "source": [
        "from pyspark.ml.linalg import Vectors\r\n",
        "from pyspark.ml.feature import VectorAssembler"
      ],
      "execution_count": null,
      "outputs": []
    },
    {
      "cell_type": "code",
      "metadata": {
        "colab": {
          "base_uri": "https://localhost:8080/"
        },
        "id": "M4yqTuhWYbS2",
        "outputId": "ecbee197-15e5-4940-d629-3d20233bce23"
      },
      "source": [
        "data.groupBy('Cruise_line').count().show()"
      ],
      "execution_count": null,
      "outputs": [
        {
          "output_type": "stream",
          "text": [
            "+-----------------+-----+\n",
            "|      Cruise_line|count|\n",
            "+-----------------+-----+\n",
            "|            Costa|   11|\n",
            "|              P&O|    6|\n",
            "|           Cunard|    3|\n",
            "|Regent_Seven_Seas|    5|\n",
            "|              MSC|    8|\n",
            "|         Carnival|   22|\n",
            "|          Crystal|    2|\n",
            "|           Orient|    1|\n",
            "|         Princess|   17|\n",
            "|        Silversea|    4|\n",
            "|         Seabourn|    3|\n",
            "| Holland_American|   14|\n",
            "|         Windstar|    3|\n",
            "|           Disney|    2|\n",
            "|        Norwegian|   13|\n",
            "|          Oceania|    3|\n",
            "|          Azamara|    2|\n",
            "|        Celebrity|   10|\n",
            "|             Star|    6|\n",
            "|  Royal_Caribbean|   23|\n",
            "+-----------------+-----+\n",
            "\n"
          ],
          "name": "stdout"
        }
      ]
    },
    {
      "cell_type": "code",
      "metadata": {
        "id": "C2SWjP6GYbQH"
      },
      "source": [
        "from pyspark.ml.feature import StringIndexer"
      ],
      "execution_count": null,
      "outputs": []
    },
    {
      "cell_type": "code",
      "metadata": {
        "id": "GrJe8jeBbVZt"
      },
      "source": [
        ""
      ],
      "execution_count": null,
      "outputs": []
    },
    {
      "cell_type": "code",
      "metadata": {
        "colab": {
          "base_uri": "https://localhost:8080/"
        },
        "id": "FraGpDtyYxiX",
        "outputId": "adf2c63e-84ec-4352-b36d-8833600b3255"
      },
      "source": [
        "indexer=StringIndexer(inputCol='Cruise_line',outputCol='cruise_cat')\r\n",
        "indexed=indexer.fit(data).transform(data)\r\n",
        "indexed.head(5)"
      ],
      "execution_count": null,
      "outputs": [
        {
          "output_type": "execute_result",
          "data": {
            "text/plain": [
              "[Row(Ship_name='Journey', Cruise_line='Azamara', Age=6, Tonnage=30.276999999999997, passengers=6.94, length=5.94, cabins=3.55, passenger_density=42.64, crew=3.55, cruise_cat=16.0),\n",
              " Row(Ship_name='Quest', Cruise_line='Azamara', Age=6, Tonnage=30.276999999999997, passengers=6.94, length=5.94, cabins=3.55, passenger_density=42.64, crew=3.55, cruise_cat=16.0),\n",
              " Row(Ship_name='Celebration', Cruise_line='Carnival', Age=26, Tonnage=47.262, passengers=14.86, length=7.22, cabins=7.43, passenger_density=31.8, crew=6.7, cruise_cat=1.0),\n",
              " Row(Ship_name='Conquest', Cruise_line='Carnival', Age=11, Tonnage=110.0, passengers=29.74, length=9.53, cabins=14.88, passenger_density=36.99, crew=19.1, cruise_cat=1.0),\n",
              " Row(Ship_name='Destiny', Cruise_line='Carnival', Age=17, Tonnage=101.353, passengers=26.42, length=8.92, cabins=13.21, passenger_density=38.36, crew=10.0, cruise_cat=1.0)]"
            ]
          },
          "metadata": {
            "tags": []
          },
          "execution_count": 87
        }
      ]
    },
    {
      "cell_type": "code",
      "metadata": {
        "id": "kMDarNIBYxfw"
      },
      "source": [
        ""
      ],
      "execution_count": null,
      "outputs": []
    },
    {
      "cell_type": "code",
      "metadata": {
        "id": "h1JGiW0-R3qA"
      },
      "source": [
        "assembler=VectorAssembler(inputCols=['Age','Tonnage','passengers','length','cabins','passenger_density','cruise_cat'],\r\n",
        "                          outputCol='features')"
      ],
      "execution_count": null,
      "outputs": []
    },
    {
      "cell_type": "code",
      "metadata": {
        "id": "gDtIW4hzSV9r"
      },
      "source": [
        "output=assembler.transform(indexed)"
      ],
      "execution_count": null,
      "outputs": []
    },
    {
      "cell_type": "code",
      "metadata": {
        "colab": {
          "base_uri": "https://localhost:8080/"
        },
        "id": "1nzWzJyJSZ3L",
        "outputId": "dd35e22c-1365-4068-d46e-e6a206861802"
      },
      "source": [
        "output.printSchema()"
      ],
      "execution_count": null,
      "outputs": [
        {
          "output_type": "stream",
          "text": [
            "root\n",
            " |-- Ship_name: string (nullable = true)\n",
            " |-- Cruise_line: string (nullable = true)\n",
            " |-- Age: integer (nullable = true)\n",
            " |-- Tonnage: double (nullable = true)\n",
            " |-- passengers: double (nullable = true)\n",
            " |-- length: double (nullable = true)\n",
            " |-- cabins: double (nullable = true)\n",
            " |-- passenger_density: double (nullable = true)\n",
            " |-- crew: double (nullable = true)\n",
            " |-- cruise_cat: double (nullable = false)\n",
            " |-- features: vector (nullable = true)\n",
            "\n"
          ],
          "name": "stdout"
        }
      ]
    },
    {
      "cell_type": "code",
      "metadata": {
        "colab": {
          "base_uri": "https://localhost:8080/"
        },
        "id": "jJ-x6snUUqqR",
        "outputId": "726478e6-a83d-41ca-be1f-96eac129ee9d"
      },
      "source": [
        "output.head()"
      ],
      "execution_count": null,
      "outputs": [
        {
          "output_type": "execute_result",
          "data": {
            "text/plain": [
              "Row(Ship_name='Journey', Cruise_line='Azamara', Age=6, Tonnage=30.276999999999997, passengers=6.94, length=5.94, cabins=3.55, passenger_density=42.64, crew=3.55, cruise_cat=16.0, features=DenseVector([6.0, 30.277, 6.94, 5.94, 3.55, 42.64, 16.0]))"
            ]
          },
          "metadata": {
            "tags": []
          },
          "execution_count": 91
        }
      ]
    },
    {
      "cell_type": "code",
      "metadata": {
        "id": "BPDX31TTSkef"
      },
      "source": [
        "final_data=output.select('features','crew')"
      ],
      "execution_count": null,
      "outputs": []
    },
    {
      "cell_type": "code",
      "metadata": {
        "id": "iKKNp_X6U0NP"
      },
      "source": [
        "train_data,test_data=final_data.randomSplit([0.7,0.3])"
      ],
      "execution_count": null,
      "outputs": []
    },
    {
      "cell_type": "code",
      "metadata": {
        "colab": {
          "base_uri": "https://localhost:8080/"
        },
        "id": "sAo3fRlJVKpC",
        "outputId": "f820bb77-dc85-4f38-b65e-0d77e770a7a3"
      },
      "source": [
        "train_data.describe().show()"
      ],
      "execution_count": null,
      "outputs": [
        {
          "output_type": "stream",
          "text": [
            "+-------+------------------+\n",
            "|summary|              crew|\n",
            "+-------+------------------+\n",
            "|  count|               103|\n",
            "|   mean| 7.750582524271855|\n",
            "| stddev|3.6515365622134737|\n",
            "|    min|              0.59|\n",
            "|    max|              21.0|\n",
            "+-------+------------------+\n",
            "\n"
          ],
          "name": "stdout"
        }
      ]
    },
    {
      "cell_type": "code",
      "metadata": {
        "colab": {
          "base_uri": "https://localhost:8080/"
        },
        "id": "XxxSvAYRVn5j",
        "outputId": "a05df478-0313-48ef-a802-92ca852cfdec"
      },
      "source": [
        "test_data.describe().show()"
      ],
      "execution_count": null,
      "outputs": [
        {
          "output_type": "stream",
          "text": [
            "+-------+------------------+\n",
            "|summary|              crew|\n",
            "+-------+------------------+\n",
            "|  count|                55|\n",
            "|   mean| 7.875818181818183|\n",
            "| stddev|3.2388896650899133|\n",
            "|    min|               1.6|\n",
            "|    max|              13.6|\n",
            "+-------+------------------+\n",
            "\n"
          ],
          "name": "stdout"
        }
      ]
    },
    {
      "cell_type": "code",
      "metadata": {
        "id": "lW-Y43dIV63P"
      },
      "source": [
        "lr_model=LinearRegression(labelCol='crew')"
      ],
      "execution_count": null,
      "outputs": []
    },
    {
      "cell_type": "code",
      "metadata": {
        "id": "WTPUG9XlWH6r"
      },
      "source": [
        "model=lr_model.fit(train_data)"
      ],
      "execution_count": null,
      "outputs": []
    },
    {
      "cell_type": "code",
      "metadata": {
        "id": "pYjBgajSWbPO"
      },
      "source": [
        "results=model.evaluate(test_data)"
      ],
      "execution_count": null,
      "outputs": []
    },
    {
      "cell_type": "code",
      "metadata": {
        "colab": {
          "base_uri": "https://localhost:8080/"
        },
        "id": "__k6cJv1WlC3",
        "outputId": "cb5789ea-6bc1-4953-e29f-0b63773b96ba"
      },
      "source": [
        "results.residuals.show()"
      ],
      "execution_count": null,
      "outputs": [
        {
          "output_type": "stream",
          "text": [
            "+--------------------+\n",
            "|           residuals|\n",
            "+--------------------+\n",
            "|  0.2070154085762521|\n",
            "| -1.5329080522938252|\n",
            "| 0.21794647112545107|\n",
            "| -0.5769157900185995|\n",
            "| -1.2113884266417205|\n",
            "|-0.44161592119484006|\n",
            "| -0.5418466401000597|\n",
            "| -0.5935565839945962|\n",
            "| -0.5803146867986744|\n",
            "| -0.5308743086381558|\n",
            "|  1.0418410366875417|\n",
            "|  1.0418410366875417|\n",
            "|-0.23690524952269598|\n",
            "| -0.3391814999081806|\n",
            "| -0.3241540417698143|\n",
            "| -0.1854541400832641|\n",
            "| 0.25821298214098665|\n",
            "|-0.17038612605628067|\n",
            "|-0.21265174168822654|\n",
            "|  0.2574428889695213|\n",
            "+--------------------+\n",
            "only showing top 20 rows\n",
            "\n"
          ],
          "name": "stdout"
        }
      ]
    },
    {
      "cell_type": "code",
      "metadata": {
        "colab": {
          "base_uri": "https://localhost:8080/"
        },
        "id": "hy29tt9EWnST",
        "outputId": "c12fe1ba-7629-4e27-fd91-443853df3c4d"
      },
      "source": [
        "results.rootMeanSquaredError"
      ],
      "execution_count": null,
      "outputs": [
        {
          "output_type": "execute_result",
          "data": {
            "text/plain": [
              "0.9443005482204244"
            ]
          },
          "metadata": {
            "tags": []
          },
          "execution_count": 100
        }
      ]
    },
    {
      "cell_type": "code",
      "metadata": {
        "colab": {
          "base_uri": "https://localhost:8080/"
        },
        "id": "TkAe-5IpbPi9",
        "outputId": "2974fa67-caae-4cbe-a360-ae7110558aac"
      },
      "source": [
        "results.r2"
      ],
      "execution_count": null,
      "outputs": [
        {
          "output_type": "execute_result",
          "data": {
            "text/plain": [
              "0.9134240818820676"
            ]
          },
          "metadata": {
            "tags": []
          },
          "execution_count": 101
        }
      ]
    },
    {
      "cell_type": "code",
      "metadata": {
        "id": "Xv3S697mb6E0"
      },
      "source": [
        "from pyspark.sql.functions import corr"
      ],
      "execution_count": null,
      "outputs": []
    },
    {
      "cell_type": "code",
      "metadata": {
        "colab": {
          "base_uri": "https://localhost:8080/"
        },
        "id": "hHsbondhb5_9",
        "outputId": "4c8f3f0c-34b4-4ced-d73d-759c91b8eb32"
      },
      "source": [
        "data.corr('crew','passengers')\r\n",
        "#checking correlation between impurt variable and target "
      ],
      "execution_count": null,
      "outputs": [
        {
          "output_type": "execute_result",
          "data": {
            "text/plain": [
              "0.9152341306065384"
            ]
          },
          "metadata": {
            "tags": []
          },
          "execution_count": 112
        }
      ]
    },
    {
      "cell_type": "code",
      "metadata": {
        "colab": {
          "base_uri": "https://localhost:8080/"
        },
        "id": "7idKOlWQb58e",
        "outputId": "2f969c98-ae6b-4da7-e629-8affd73c4e57"
      },
      "source": [
        "data.corr('crew','cabins')"
      ],
      "execution_count": null,
      "outputs": [
        {
          "output_type": "execute_result",
          "data": {
            "text/plain": [
              "0.9508226063578497"
            ]
          },
          "metadata": {
            "tags": []
          },
          "execution_count": 113
        }
      ]
    },
    {
      "cell_type": "code",
      "metadata": {
        "id": "4GLSMBo7dA35"
      },
      "source": [
        "import seaborn as sns\r\n",
        "import pandas as pd"
      ],
      "execution_count": null,
      "outputs": []
    },
    {
      "cell_type": "code",
      "metadata": {
        "id": "SXTKIxGYd67O"
      },
      "source": [
        "df=pd.read_csv('/content/sample_data/cruise_ship_info.csv')"
      ],
      "execution_count": null,
      "outputs": []
    },
    {
      "cell_type": "code",
      "metadata": {
        "colab": {
          "base_uri": "https://localhost:8080/",
          "height": 370
        },
        "id": "id4f3xiJdM7d",
        "outputId": "8f20fc14-62bb-42dd-f1c8-57d14c753557"
      },
      "source": [
        "sns.heatmap(df.corr(),annot=True)"
      ],
      "execution_count": null,
      "outputs": [
        {
          "output_type": "execute_result",
          "data": {
            "text/plain": [
              "<matplotlib.axes._subplots.AxesSubplot at 0x7f1d641eafd0>"
            ]
          },
          "metadata": {
            "tags": []
          },
          "execution_count": 123
        },
        {
          "output_type": "display_data",
          "data": {
            "image/png": "[encoded data removed]",
            "text/plain": [
              "<Figure size 432x288 with 2 Axes>"
            ]
          },
          "metadata": {
            "tags": [],
            "needs_background": "light"
          }
        }
      ]
    },
    {
      "cell_type": "code",
      "metadata": {
        "id": "bEFLnQLEW3p_"
      },
      "source": [
        "unlabeled_data=test_data.select('features')"
      ],
      "execution_count": null,
      "outputs": []
    },
    {
      "cell_type": "code",
      "metadata": {
        "colab": {
          "base_uri": "https://localhost:8080/"
        },
        "id": "Dxxb9b6TXKTG",
        "outputId": "5b4f9758-f855-4551-bbec-19bd31bebd03"
      },
      "source": [
        "unlabeled_data.show()"
      ],
      "execution_count": null,
      "outputs": [
        {
          "output_type": "stream",
          "text": [
            "+--------------------+\n",
            "|            features|\n",
            "+--------------------+\n",
            "|[5.0,115.0,35.74,...|\n",
            "|[5.0,160.0,36.34,...|\n",
            "|[6.0,110.23899999...|\n",
            "|[6.0,112.0,38.0,9...|\n",
            "|[7.0,89.6,25.5,9....|\n",
            "|[7.0,158.0,43.7,1...|\n",
            "|[8.0,110.0,29.74,...|\n",
            "|[9.0,90.09,25.01,...|\n",
            "|[9.0,105.0,27.2,8...|\n",
            "|[9.0,110.0,29.74,...|\n",
            "|[9.0,113.0,26.74,...|\n",
            "|[9.0,113.0,26.74,...|\n",
            "|[10.0,68.0,10.8,7...|\n",
            "|[10.0,81.76899999...|\n",
            "|[10.0,90.09,25.01...|\n",
            "|[10.0,91.62700000...|\n",
            "|[11.0,58.6,15.66,...|\n",
            "|[11.0,91.62700000...|\n",
            "|[12.0,25.0,3.88,5...|\n",
            "|[12.0,42.0,14.8,7...|\n",
            "+--------------------+\n",
            "only showing top 20 rows\n",
            "\n"
          ],
          "name": "stdout"
        }
      ]
    },
    {
      "cell_type": "code",
      "metadata": {
        "id": "IS_pIHt9XMp2"
      },
      "source": [
        "predictions=model.transform(unlabeled_data)"
      ],
      "execution_count": null,
      "outputs": []
    },
    {
      "cell_type": "code",
      "metadata": {
        "colab": {
          "base_uri": "https://localhost:8080/"
        },
        "id": "m3m4yp3RXWkD",
        "outputId": "e19761db-253a-4e5b-f819-7596cc8ff609"
      },
      "source": [
        "predictions.show()"
      ],
      "execution_count": null,
      "outputs": [
        {
          "output_type": "stream",
          "text": [
            "+--------------------+------------------+\n",
            "|            features|        prediction|\n",
            "+--------------------+------------------+\n",
            "|[5.0,115.0,35.74,...|11.992984591423747|\n",
            "|[5.0,160.0,36.34,...|15.132908052293825|\n",
            "|[6.0,110.23899999...|11.282053528874549|\n",
            "|[6.0,112.0,38.0,9...|  11.4769157900186|\n",
            "|[7.0,89.6,25.5,9....| 11.08138842664172|\n",
            "|[7.0,158.0,43.7,1...| 14.04161592119484|\n",
            "|[8.0,110.0,29.74,...| 12.14184664010006|\n",
            "|[9.0,90.09,25.01,...| 9.283556583994596|\n",
            "|[9.0,105.0,27.2,8...|11.260314686798674|\n",
            "|[9.0,110.0,29.74,...|12.130874308638155|\n",
            "|[9.0,113.0,26.74,...|11.338158963312459|\n",
            "|[9.0,113.0,26.74,...|11.338158963312459|\n",
            "|[10.0,68.0,10.8,7...| 6.596905249522696|\n",
            "|[10.0,81.76899999...|  8.75918149990818|\n",
            "|[10.0,90.09,25.01...| 8.904154041769814|\n",
            "|[10.0,91.62700000...| 9.185454140083264|\n",
            "|[11.0,58.6,15.66,...| 7.341787017859013|\n",
            "|[11.0,91.62700000...|  9.17038612605628|\n",
            "|[12.0,25.0,3.88,5...|3.0826517416882266|\n",
            "|[12.0,42.0,14.8,7...|6.5425571110304785|\n",
            "+--------------------+------------------+\n",
            "only showing top 20 rows\n",
            "\n"
          ],
          "name": "stdout"
        }
      ]
    },
    {
      "cell_type": "code",
      "metadata": {
        "colab": {
          "base_uri": "https://localhost:8080/"
        },
        "id": "MpZ-bK2VXYDj",
        "outputId": "cc7477a1-eadc-4122-f786-86a80ad2997a"
      },
      "source": [
        "test_data.show()"
      ],
      "execution_count": null,
      "outputs": [
        {
          "output_type": "stream",
          "text": [
            "+--------------------+-----+\n",
            "|            features| crew|\n",
            "+--------------------+-----+\n",
            "|[5.0,115.0,35.74,...| 12.2|\n",
            "|[5.0,160.0,36.34,...| 13.6|\n",
            "|[6.0,110.23899999...| 11.5|\n",
            "|[6.0,112.0,38.0,9...| 10.9|\n",
            "|[7.0,89.6,25.5,9....| 9.87|\n",
            "|[7.0,158.0,43.7,1...| 13.6|\n",
            "|[8.0,110.0,29.74,...| 11.6|\n",
            "|[9.0,90.09,25.01,...| 8.69|\n",
            "|[9.0,105.0,27.2,8...|10.68|\n",
            "|[9.0,110.0,29.74,...| 11.6|\n",
            "|[9.0,113.0,26.74,...|12.38|\n",
            "|[9.0,113.0,26.74,...|12.38|\n",
            "|[10.0,68.0,10.8,7...| 6.36|\n",
            "|[10.0,81.76899999...| 8.42|\n",
            "|[10.0,90.09,25.01...| 8.58|\n",
            "|[10.0,91.62700000...|  9.0|\n",
            "|[11.0,58.6,15.66,...|  7.6|\n",
            "|[11.0,91.62700000...|  9.0|\n",
            "|[12.0,25.0,3.88,5...| 2.87|\n",
            "|[12.0,42.0,14.8,7...|  6.8|\n",
            "+--------------------+-----+\n",
            "only showing top 20 rows\n",
            "\n"
          ],
          "name": "stdout"
        }
      ]
    },
    {
      "cell_type": "code",
      "metadata": {
        "colab": {
          "base_uri": "https://localhost:8080/"
        },
        "id": "fiep40gDXiGO",
        "outputId": "b767fb3a-7aaf-4803-a92a-ac367497309e"
      },
      "source": [
        "final_data.describe().show()"
      ],
      "execution_count": null,
      "outputs": [
        {
          "output_type": "stream",
          "text": [
            "+-------+-----------------+\n",
            "|summary|             crew|\n",
            "+-------+-----------------+\n",
            "|  count|              158|\n",
            "|   mean|7.794177215189873|\n",
            "| stddev|3.503486564627034|\n",
            "|    min|             0.59|\n",
            "|    max|             21.0|\n",
            "+-------+-----------------+\n",
            "\n"
          ],
          "name": "stdout"
        }
      ]
    },
    {
      "cell_type": "code",
      "metadata": {
        "id": "dpydjwfkXzK2"
      },
      "source": [
        ""
      ],
      "execution_count": null,
      "outputs": []
    }
  ]
}